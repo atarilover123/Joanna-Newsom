{
  "nbformat": 4,
  "nbformat_minor": 0,
  "metadata": {
    "colab": {
      "name": "Monkey&Bear",
      "provenance": [],
      "collapsed_sections": [],
      "authorship_tag": "ABX9TyNhmgs11tXtasXuCunRT/mp",
      "include_colab_link": true
    },
    "kernelspec": {
      "name": "python3",
      "display_name": "Python 3"
    }
  },
  "cells": [
    {
      "cell_type": "markdown",
      "metadata": {
        "id": "view-in-github",
        "colab_type": "text"
      },
      "source": [
        "<a href=\"https://colab.research.google.com/github/atarilover123/Joanna-Newsom/blob/master/Monkey%26Bear.ipynb\" target=\"_parent\"><img src=\"https://colab.research.google.com/assets/colab-badge.svg\" alt=\"Open In Colab\"/></a>"
      ]
    },
    {
      "cell_type": "code",
      "metadata": {
        "id": "QM7864XHrizZ",
        "colab_type": "code",
        "colab": {}
      },
      "source": [
        "from urllib.request import urlopen\n",
        "import requests\n",
        "from bs4 import BeautifulSoup"
      ],
      "execution_count": 1,
      "outputs": []
    },
    {
      "cell_type": "code",
      "metadata": {
        "id": "075W8RN-r1bR",
        "colab_type": "code",
        "colab": {}
      },
      "source": [
        "#page to scrape from\n",
        "page = requests.get(\"https://a-z-animals.com/animals/\")\n",
        "soup = BeautifulSoup(page.content, 'html.parser')"
      ],
      "execution_count": 2,
      "outputs": []
    },
    {
      "cell_type": "code",
      "metadata": {
        "id": "nIKqcHTKuqPV",
        "colab_type": "code",
        "colab": {
          "base_uri": "https://localhost:8080/",
          "height": 35
        },
        "outputId": "360fd222-e2a9-4a83-bc79-b55d4c15fcea"
      },
      "source": [
        "animal = str(soup.find_all('b'))\n",
        "animal_formatted = BeautifulSoup(animal).get_text()\n",
        "print(len(animal_formatted))"
      ],
      "execution_count": 3,
      "outputs": [
        {
          "output_type": "stream",
          "text": [
            "7736\n"
          ],
          "name": "stdout"
        }
      ]
    },
    {
      "cell_type": "code",
      "metadata": {
        "id": "7vaGCWf06ghQ",
        "colab_type": "code",
        "colab": {}
      },
      "source": [
        "animalarray = animal_formatted.split(',')"
      ],
      "execution_count": 4,
      "outputs": []
    },
    {
      "cell_type": "code",
      "metadata": {
        "id": "omnsElUI9TAa",
        "colab_type": "code",
        "colab": {}
      },
      "source": [
        "aname = {}\n",
        "\n",
        "for i in range(1,len(animalarray)):\n",
        "  aname[animalarray[i].strip()] = 0\n"
      ],
      "execution_count": 5,
      "outputs": []
    },
    {
      "cell_type": "code",
      "metadata": {
        "id": "w7dI84tE924R",
        "colab_type": "code",
        "colab": {}
      },
      "source": [
        "namecheck = \"Gdg\"\n",
        "namecheck = namecheck.capitalize()\n",
        "#print(aname[namecheck])"
      ],
      "execution_count": 6,
      "outputs": []
    },
    {
      "cell_type": "code",
      "metadata": {
        "id": "7P4nRlURDmZ4",
        "colab_type": "code",
        "colab": {}
      },
      "source": [
        "#check to see if present and add to new dictionary\n",
        "\n",
        "janimals = {}\n",
        "\n",
        "def txtread(jword):\n",
        "  if jword in aname: \n",
        "    #print(\"Present, \", end =\" \") \n",
        "    #print(\"value =\", aname[jword])\n",
        "    aname[jword] = aname[jword]+1\n",
        "    janimals[jword] = aname[jword]"
      ],
      "execution_count": 7,
      "outputs": []
    },
    {
      "cell_type": "code",
      "metadata": {
        "id": "7jKtJJdZG7ym",
        "colab_type": "code",
        "colab": {}
      },
      "source": [
        "with open('JN_lyrics.txt', 'r') as jn:\n",
        "    lyrics = jn.read().replace('\\n', '')\n",
        "\n",
        "bearselect = 0\n",
        "lyrics = str(lyrics).split(' ')\n",
        "\n",
        "for llength in range(len(lyrics)):\n",
        "  txtread(lyrics[llength].capitalize())\n",
        "  #print((lyrics[llength].capitalize()))\n",
        "  if lyrics[llength] == \"Bear\":\n",
        "    bearselect = bearselect+1\n",
        "          \n"
      ],
      "execution_count": 8,
      "outputs": []
    },
    {
      "cell_type": "code",
      "metadata": {
        "id": "ItKirtrUJ3Fz",
        "colab_type": "code",
        "colab": {
          "base_uri": "https://localhost:8080/",
          "height": 35
        },
        "outputId": "b5af100d-84d8-4335-ac4d-df06de81dec7"
      },
      "source": [
        "print(janimals)"
      ],
      "execution_count": 9,
      "outputs": [
        {
          "output_type": "stream",
          "text": [
            "{'Crab': 1, 'Dog': 1, 'Cat': 3, 'Mouse': 1, 'Seahorse': 2, 'Beetle': 2, 'Monkey': 4, 'Bear': 11, 'Vulture': 1, 'Fox': 1, 'Goose': 2}\n"
          ],
          "name": "stdout"
        }
      ]
    },
    {
      "cell_type": "code",
      "metadata": {
        "id": "FUcfjBoIMr0M",
        "colab_type": "code",
        "colab": {
          "base_uri": "https://localhost:8080/",
          "height": 630
        },
        "outputId": "dfcdba4f-d9ad-4478-8ee1-15407c9117f2"
      },
      "source": [
        "import matplotlib.pyplot as plt\n",
        "plt.figure(figsize=(15,10))\n",
        "plt.bar(range(len(janimals)), list(janimals.values()), align='center',color=(janimals['Crab']%2, janimals['Monkey']%2, janimals['Bear']%1.5))\n",
        "plt.xticks(range(len(janimals)), list(janimals.keys()))\n",
        "plt.title('Animals in Joanna Newsom songs', fontsize=18)\n",
        "plt.xlabel('Animal Type', fontsize=16)\n",
        "plt.ylabel('Animal Number', fontsize=16)\n",
        "\n",
        "plt.show()"
      ],
      "execution_count": 10,
      "outputs": [
        {
          "output_type": "display_data",
          "data": {
            "image/png": "[encoded data removed]",
            "text/plain": [
              "<Figure size 1080x720 with 1 Axes>"
            ]
          },
          "metadata": {
            "tags": [],
            "needs_background": "light"
          }
        }
      ]
    }
  ]
}